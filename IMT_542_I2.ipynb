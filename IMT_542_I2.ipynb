{
  "nbformat": 4,
  "nbformat_minor": 0,
  "metadata": {
    "colab": {
      "provenance": [],
      "authorship_tag": "ABX9TyNVfQP3cKlY+g2hhoaWOXrP",
      "include_colab_link": true
    },
    "kernelspec": {
      "name": "python3",
      "display_name": "Python 3"
    },
    "language_info": {
      "name": "python"
    }
  },
  "cells": [
    {
      "cell_type": "markdown",
      "metadata": {
        "id": "view-in-github",
        "colab_type": "text"
      },
      "source": [
        "<a href=\"https://colab.research.google.com/github/merewein/imt_542_i2a/blob/main/IMT_542_I2.ipynb\" target=\"_parent\"><img src=\"https://colab.research.google.com/assets/colab-badge.svg\" alt=\"Open In Colab\"/></a>"
      ]
    },
    {
      "cell_type": "code",
      "source": [
        "import json\n",
        "import pandas as pd\n",
        "\n",
        "# Load JSON\n",
        "with open('IMT 542 I2 JSON.docx_auto.json', 'r') as f:\n",
        "    json_data = json.load(f)\n",
        "json_df = pd.DataFrame(json_data['books'])\n",
        "\n",
        "# Load CSV\n",
        "csv_df = pd.read_csv('IMT 542 CSV start.csv')\n",
        "\n",
        "# Merge JSON and CSV on the book title\n",
        "merged_df = pd.merge(json_df, csv_df, left_on='title', right_on='Book Title', how='left')\n",
        "\n",
        "# Books from JSON that received an award (non-null Award Name)\n",
        "awarded_books = merged_df[~merged_df['Award Name'].isna()][['title', 'authorName', 'Award Name', 'Awarded']]\n",
        "non_awarded_books = merged_df[merged_df['Award Name'].isna()][['title', 'authorName']]\n",
        "\n",
        "# Display results\n",
        "print(\"\\n NYT 5 Best Fiction Books that received awards:\")\n",
        "print(awarded_books.to_string(index=False))\n",
        "\n",
        "print(\"\\n NYT 5 Best Fiction Books with no award listed:\")\n",
        "print(non_awarded_books.to_string(index=False))\n"
      ],
      "metadata": {
        "colab": {
          "base_uri": "https://localhost:8080/"
        },
        "id": "ggnZxJmmRO-m",
        "outputId": "4e86426e-5b44-46dd-a758-b2dd8dd69fb3"
      },
      "execution_count": 12,
      "outputs": [
        {
          "output_type": "stream",
          "name": "stdout",
          "text": [
            "\n",
            " NYT 5 Best Fiction Books that received awards:\n",
            "    title       authorName          Award Name  Awarded\n",
            "    James Percival Everett National Book Award   Winner\n",
            "    James Percival Everett        Booker Prize Finalist\n",
            "    James Percival Everett        Kirkus Prize   Winner\n",
            "  Martyr!      Kaveh Akbar National Book Award Finalist\n",
            "All Fours     Miranda July National Book Award Finalist\n",
            "\n",
            " NYT 5 Best Fiction Books with no award listed:\n",
            "                 title     authorName\n",
            "You Dreamed of Empires Alvaro Enrigue\n",
            "         Good Material Dolly Alderton\n"
          ]
        }
      ]
    }
  ]
}